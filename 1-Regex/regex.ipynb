{
 "cells": [
  {
   "cell_type": "markdown",
   "id": "5b2d5c3d",
   "metadata": {},
   "source": [
    "# Basic Regex"
   ]
  },
  {
   "cell_type": "code",
   "execution_count": 1,
   "id": "57a53a1d",
   "metadata": {},
   "outputs": [
    {
     "name": "stdout",
     "output_type": "stream",
     "text": [
      "Defaulting to user installation because normal site-packages is not writeable"
     ]
    },
    {
     "name": "stderr",
     "output_type": "stream",
     "text": [
      "ERROR: Could not find a version that satisfies the requirement re (from versions: none)\n",
      "ERROR: No matching distribution found for re\n"
     ]
    },
    {
     "name": "stdout",
     "output_type": "stream",
     "text": [
      "\n"
     ]
    }
   ],
   "source": [
    "!pip install re"
   ]
  },
  {
   "cell_type": "code",
   "execution_count": 2,
   "id": "5ac04d29",
   "metadata": {},
   "outputs": [],
   "source": [
    "import re"
   ]
  },
  {
   "cell_type": "code",
   "execution_count": 30,
   "id": "4d3866de",
   "metadata": {},
   "outputs": [],
   "source": [
    "text=\"this is my ordering 21235 232323\""
   ]
  },
  {
   "cell_type": "code",
   "execution_count": 55,
   "id": "06017625",
   "metadata": {},
   "outputs": [],
   "source": [
    "pat=\"order[^\\d]*\\d*(?= )\""
   ]
  },
  {
   "cell_type": "code",
   "execution_count": 56,
   "id": "9a7beef3",
   "metadata": {},
   "outputs": [
    {
     "data": {
      "text/plain": [
       "['ordering 21235']"
      ]
     },
     "execution_count": 56,
     "metadata": {},
     "output_type": "execute_result"
    }
   ],
   "source": [
    "m=re.findall(pat,text)\n",
    "m"
   ]
  },
  {
   "cell_type": "code",
   "execution_count": 101,
   "id": "58ec7236",
   "metadata": {},
   "outputs": [],
   "source": [
    "mail=\"hello praj@gmail.com\""
   ]
  },
  {
   "cell_type": "code",
   "execution_count": 102,
   "id": "f9f7178f",
   "metadata": {},
   "outputs": [
    {
     "data": {
      "text/plain": [
       "['praj@gmail.com']"
      ]
     },
     "execution_count": 102,
     "metadata": {},
     "output_type": "execute_result"
    }
   ],
   "source": [
    "re.findall('[a-zA-Z0-9_]+@[a-z]*\\.[a-zA-Z0-9]*', mail)"
   ]
  },
  {
   "cell_type": "code",
   "execution_count": 122,
   "id": "a54158c5",
   "metadata": {},
   "outputs": [],
   "source": [
    "nu= \"phone is (123)-123-1234\""
   ]
  },
  {
   "cell_type": "code",
   "execution_count": 123,
   "id": "c0c9b055",
   "metadata": {},
   "outputs": [
    {
     "data": {
      "text/plain": [
       "[('', '(123)-123-1234')]"
      ]
     },
     "execution_count": 123,
     "metadata": {},
     "output_type": "execute_result"
    }
   ],
   "source": [
    "re.findall('(\\d{10})|(\\(\\d{3}\\)-\\d{3}-\\d{4})', nu)"
   ]
  },
  {
   "cell_type": "code",
   "execution_count": 178,
   "id": "215b5124",
   "metadata": {},
   "outputs": [],
   "source": [
    "import nltk"
   ]
  },
  {
   "cell_type": "code",
   "execution_count": 177,
   "id": "57aa261e",
   "metadata": {},
   "outputs": [
    {
     "name": "stdout",
     "output_type": "stream",
     "text": [
      "['FY2021 Q1', 'fy2021 Q4']\n",
      "['4.85', '8']\n"
     ]
    }
   ],
   "source": [
    "#q1 extract FY2021 Q1 and fy2021 Q4\n",
    "#q2 extract 4.85 and 8\n",
    "\n",
    "\n",
    "text =''' Tesla's gross lease vehicles in FY2021 Q1 was $4.85 billion. BMW's gross lease in fy2021 Q4 was $8 billion.\n",
    "'''\n",
    "\n",
    "#A1\n",
    "print(re.findall('.[FY|fy]\\d{4}\\s[Q][1-4]', text))\n",
    "\n",
    "#A2\n",
    "print(re.findall(\"\\$([0-9.]*)\",text))"
   ]
  },
  {
   "cell_type": "markdown",
   "id": "b3cfbbb8",
   "metadata": {},
   "source": [
    "# Stopwords"
   ]
  },
  {
   "cell_type": "code",
   "execution_count": 189,
   "id": "c98f28d5",
   "metadata": {},
   "outputs": [
    {
     "name": "stderr",
     "output_type": "stream",
     "text": [
      "[nltk_data] Downloading package punkt to\n",
      "[nltk_data]     C:\\Users\\RVCCF044\\AppData\\Roaming\\nltk_data...\n",
      "[nltk_data]   Unzipping tokenizers\\punkt.zip.\n"
     ]
    },
    {
     "data": {
      "text/plain": [
       "True"
      ]
     },
     "execution_count": 189,
     "metadata": {},
     "output_type": "execute_result"
    }
   ],
   "source": [
    "from nltk.corpus import stopwords\n",
    "nltk.download('punkt')"
   ]
  },
  {
   "cell_type": "code",
   "execution_count": 190,
   "id": "7bc4523b",
   "metadata": {
    "scrolled": true
   },
   "outputs": [
    {
     "name": "stdout",
     "output_type": "stream",
     "text": [
      "['i', 'me', 'my', 'myself', 'we', 'our', 'ours', 'ourselves', 'you', \"you're\", \"you've\", \"you'll\", \"you'd\", 'your', 'yours', 'yourself', 'yourselves', 'he', 'him', 'his', 'himself', 'she', \"she's\", 'her', 'hers', 'herself', 'it', \"it's\", 'its', 'itself', 'they', 'them', 'their', 'theirs', 'themselves', 'what', 'which', 'who', 'whom', 'this', 'that', \"that'll\", 'these', 'those', 'am', 'is', 'are', 'was', 'were', 'be', 'been', 'being', 'have', 'has', 'had', 'having', 'do', 'does', 'did', 'doing', 'a', 'an', 'the', 'and', 'but', 'if', 'or', 'because', 'as', 'until', 'while', 'of', 'at', 'by', 'for', 'with', 'about', 'against', 'between', 'into', 'through', 'during', 'before', 'after', 'above', 'below', 'to', 'from', 'up', 'down', 'in', 'out', 'on', 'off', 'over', 'under', 'again', 'further', 'then', 'once', 'here', 'there', 'when', 'where', 'why', 'how', 'all', 'any', 'both', 'each', 'few', 'more', 'most', 'other', 'some', 'such', 'no', 'nor', 'not', 'only', 'own', 'same', 'so', 'than', 'too', 'very', 's', 't', 'can', 'will', 'just', 'don', \"don't\", 'should', \"should've\", 'now', 'd', 'll', 'm', 'o', 're', 've', 'y', 'ain', 'aren', \"aren't\", 'couldn', \"couldn't\", 'didn', \"didn't\", 'doesn', \"doesn't\", 'hadn', \"hadn't\", 'hasn', \"hasn't\", 'haven', \"haven't\", 'isn', \"isn't\", 'ma', 'mightn', \"mightn't\", 'mustn', \"mustn't\", 'needn', \"needn't\", 'shan', \"shan't\", 'shouldn', \"shouldn't\", 'wasn', \"wasn't\", 'weren', \"weren't\", 'won', \"won't\", 'wouldn', \"wouldn't\"]\n"
     ]
    },
    {
     "name": "stderr",
     "output_type": "stream",
     "text": [
      "[nltk_data] Downloading package stopwords to\n",
      "[nltk_data]     C:\\Users\\RVCCF044\\AppData\\Roaming\\nltk_data...\n",
      "[nltk_data]   Package stopwords is already up-to-date!\n"
     ]
    }
   ],
   "source": [
    "nltk.download('stopwords')\n",
    "print(stopwords.words(\"english\"))"
   ]
  },
  {
   "cell_type": "code",
   "execution_count": 192,
   "id": "49df2eed",
   "metadata": {},
   "outputs": [
    {
     "name": "stdout",
     "output_type": "stream",
     "text": [
      "['This', 'is', 'an', 'example', 'to', 'show', 'the', 'filtration', 'of', 'stop', 'words']\n"
     ]
    }
   ],
   "source": [
    "text=\"This is an example to show the filtration of stop words\"\n",
    "stop_words=set(stopwords.words(\"english\"))\n",
    "word_tokens=word_tokenize(text)\n",
    "\n",
    "filtered_sentence=[w for w in word_tokens if not w.lower() in stop_words]\n",
    "for w in word_tokens:\n",
    "    if w not in stop_words:\n",
    "        filtered_sentence.append(w)\n",
    "print(word_tokens)"
   ]
  },
  {
   "cell_type": "code",
   "execution_count": 197,
   "id": "dc51da7c",
   "metadata": {},
   "outputs": [
    {
     "name": "stdout",
     "output_type": "stream",
     "text": [
      "example\n",
      "show\n",
      "filtration\n",
      "stop\n",
      "words\n",
      "This\n",
      "example\n",
      "show\n",
      "filtration\n",
      "stop\n",
      "words\n"
     ]
    }
   ],
   "source": [
    "for i in range(len(filtered_sentence)):\n",
    "    print(filtered_sentence[i])"
   ]
  },
  {
   "cell_type": "code",
   "execution_count": null,
   "id": "5fc46708",
   "metadata": {},
   "outputs": [],
   "source": []
  }
 ],
 "metadata": {
  "kernelspec": {
   "display_name": "Python 3 (ipykernel)",
   "language": "python",
   "name": "python3"
  },
  "language_info": {
   "codemirror_mode": {
    "name": "ipython",
    "version": 3
   },
   "file_extension": ".py",
   "mimetype": "text/x-python",
   "name": "python",
   "nbconvert_exporter": "python",
   "pygments_lexer": "ipython3",
   "version": "3.11.5"
  }
 },
 "nbformat": 4,
 "nbformat_minor": 5
}
