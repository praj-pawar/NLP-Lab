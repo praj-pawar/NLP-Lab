{
 "cells": [
  {
   "cell_type": "code",
   "execution_count": 1,
   "id": "9fa90039",
   "metadata": {},
   "outputs": [
    {
     "name": "stdout",
     "output_type": "stream",
     "text": [
      "Defaulting to user installation because normal site-packages is not writeable"
     ]
    },
    {
     "name": "stderr",
     "output_type": "stream",
     "text": [
      "ERROR: Could not find a version that satisfies the requirement re (from versions: none)\n",
      "ERROR: No matching distribution found for re\n"
     ]
    },
    {
     "name": "stdout",
     "output_type": "stream",
     "text": [
      "\n"
     ]
    }
   ],
   "source": [
    "!pip install re"
   ]
  },
  {
   "cell_type": "code",
   "execution_count": 2,
   "id": "29ea0b5c",
   "metadata": {},
   "outputs": [],
   "source": [
    "import re"
   ]
  },
  {
   "cell_type": "code",
   "execution_count": 30,
   "id": "8ca2feba",
   "metadata": {},
   "outputs": [],
   "source": [
    "text=\"this is my ordering 21235 232323\""
   ]
  },
  {
   "cell_type": "code",
   "execution_count": 55,
   "id": "abbe4154",
   "metadata": {},
   "outputs": [],
   "source": [
    "pat=\"order[^\\d]*\\d*(?= )\""
   ]
  },
  {
   "cell_type": "code",
   "execution_count": 56,
   "id": "ab376c2c",
   "metadata": {},
   "outputs": [
    {
     "data": {
      "text/plain": [
       "['ordering 21235']"
      ]
     },
     "execution_count": 56,
     "metadata": {},
     "output_type": "execute_result"
    }
   ],
   "source": [
    "m=re.findall(pat,text)\n",
    "m"
   ]
  },
  {
   "cell_type": "code",
   "execution_count": 101,
   "id": "1ab59dd1",
   "metadata": {},
   "outputs": [],
   "source": [
    "mail=\"hello praj@gmail.com\""
   ]
  },
  {
   "cell_type": "code",
   "execution_count": 102,
   "id": "6c3016ec",
   "metadata": {},
   "outputs": [
    {
     "data": {
      "text/plain": [
       "['praj@gmail.com']"
      ]
     },
     "execution_count": 102,
     "metadata": {},
     "output_type": "execute_result"
    }
   ],
   "source": [
    "re.findall('[a-zA-Z0-9_]+@[a-z]*\\.[a-zA-Z0-9]*', mail)"
   ]
  },
  {
   "cell_type": "code",
   "execution_count": 122,
   "id": "aef82db4",
   "metadata": {},
   "outputs": [],
   "source": [
    "nu= \"phone is (123)-123-1234\""
   ]
  },
  {
   "cell_type": "code",
   "execution_count": 123,
   "id": "40efa8e1",
   "metadata": {},
   "outputs": [
    {
     "data": {
      "text/plain": [
       "[('', '(123)-123-1234')]"
      ]
     },
     "execution_count": 123,
     "metadata": {},
     "output_type": "execute_result"
    }
   ],
   "source": [
    "re.findall('(\\d{10})|(\\(\\d{3}\\)-\\d{3}-\\d{4})', nu)"
   ]
  },
  {
   "cell_type": "code",
   "execution_count": 177,
   "id": "49432e4e",
   "metadata": {},
   "outputs": [
    {
     "name": "stdout",
     "output_type": "stream",
     "text": [
      "['FY2021 Q1', 'fy2021 Q4']\n",
      "['4.85', '8']\n"
     ]
    }
   ],
   "source": [
    "#q1 extract FY2021 Q1 and fy2021 Q4\n",
    "#q2 extract 4.85 and 8\n",
    "\n",
    "\n",
    "text =''' Tesla's gross lease vehicles in FY2021 Q1 was $4.85 billion. BMW's gross lease in fy2021 Q4 was $8 billion.\n",
    "'''\n",
    "\n",
    "#A1\n",
    "print(re.findall('.[FY|fy]\\d{4}\\s[Q][1-4]', text))\n",
    "\n",
    "#A2\n",
    "print(re.findall(\"\\$([0-9.]*)\",text))"
   ]
  },
  {
   "cell_type": "code",
   "execution_count": null,
   "id": "93b0af13",
   "metadata": {},
   "outputs": [],
   "source": []
  },
  {
   "cell_type": "code",
   "execution_count": null,
   "id": "ed581f76",
   "metadata": {},
   "outputs": [],
   "source": []
  },
  {
   "cell_type": "code",
   "execution_count": null,
   "id": "6f4a3348",
   "metadata": {},
   "outputs": [],
   "source": []
  }
 ],
 "metadata": {
  "kernelspec": {
   "display_name": "Python 3 (ipykernel)",
   "language": "python",
   "name": "python3"
  },
  "language_info": {
   "codemirror_mode": {
    "name": "ipython",
    "version": 3
   },
   "file_extension": ".py",
   "mimetype": "text/x-python",
   "name": "python",
   "nbconvert_exporter": "python",
   "pygments_lexer": "ipython3",
   "version": "3.11.5"
  }
 },
 "nbformat": 4,
 "nbformat_minor": 5
}
